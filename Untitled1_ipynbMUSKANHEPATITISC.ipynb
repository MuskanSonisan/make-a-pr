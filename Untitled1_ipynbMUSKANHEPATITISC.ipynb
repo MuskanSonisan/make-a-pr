{
  "nbformat": 4,
  "nbformat_minor": 0,
  "metadata": {
    "colab": {
      "provenance": [],
      "authorship_tag": "ABX9TyPvm22qsP7KpnHC0vzZtw/G",
      "include_colab_link": true
    },
    "kernelspec": {
      "name": "python3",
      "display_name": "Python 3"
    },
    "language_info": {
      "name": "python"
    }
  },
  "cells": [
    {
      "cell_type": "markdown",
      "metadata": {
        "id": "view-in-github",
        "colab_type": "text"
      },
      "source": [
        "<a href=\"https://colab.research.google.com/github/MuskanSonisan/make-a-pr/blob/master/Untitled1_ipynbMUSKANHEPATITISC.ipynb\" target=\"_parent\"><img src=\"https://colab.research.google.com/assets/colab-badge.svg\" alt=\"Open In Colab\"/></a>"
      ]
    },
    {
      "cell_type": "code",
      "execution_count": null,
      "metadata": {
        "id": "9gPE7CrhqALm"
      },
      "outputs": [],
      "source": [
        "import numpy as np # linear algebra\n",
        "import pandas as pd # data processing, CSV file I/O (e.g. pd.read_csv)\n",
        "\n",
        "# Input data files are available in the read-only \"../input/\" directory\n",
        "# For example, running this (by clicking run or pressing Shift+Enter) will list all files under the input directory\n",
        "\n",
        "import os\n",
        "for dirname, _, filenames in os.walk('/kaggle/input'):\n",
        "    for filename in filenames:\n",
        "        print(os.path.join(dirname, filename))\n",
        "\n",
        "# You can write up to 20GB to the current directory (/kaggle/working/) that gets preserved as output when you create a version using \"Save & Run All\"\n",
        "# You can also write temporary files to /kaggle/temp/, but they won't be saved outside of the current"
      ]
    },
    {
      "cell_type": "code",
      "source": [
        "import numpy as np\n",
        "import pandas as pd\n",
        "import matplotlib.pyplot as plt\n",
        "import seaborn as sns\n",
        "from matplotlib import style\n",
        "from sklearn.impute import SimpleImputer\n",
        "from sklearn.preprocessing import OrdinalEncoder\n",
        "import pandas as pd\n",
        "from sklearn.model_selection import train_test_split, GridSearchCV\n",
        "from sklearn.linear_model import LogisticRegression\n",
        "from sklearn.ensemble import RandomForestClassifier, GradientBoostingClassifier\n",
        "from sklearn.svm import SVC\n",
        "from sklearn.neural_network import MLPClassifier\n",
        "from sklearn.metrics import accuracy_score, confusion_matrix\n",
        "\n",
        "style.use(\"fivethirtyeight\")\n"
      ],
      "metadata": {
        "id": "0MXyHCIbvYli"
      },
      "execution_count": null,
      "outputs": []
    },
    {
      "cell_type": "code",
      "source": [
        "df=pd.read_csv('/kaggle/input/hepatitis-c-dataset/HepatitisCdata.csv')"
      ],
      "metadata": {
        "id": "MAz7n9XnvdhM"
      },
      "execution_count": null,
      "outputs": []
    },
    {
      "cell_type": "code",
      "source": [
        "df"
      ],
      "metadata": {
        "id": "m57Snpl_vizu"
      },
      "execution_count": null,
      "outputs": []
    },
    {
      "cell_type": "code",
      "source": [
        "print(df.isnull().sum())"
      ],
      "metadata": {
        "id": "N9omRZBAvwtp"
      },
      "execution_count": null,
      "outputs": []
    },
    {
      "cell_type": "code",
      "source": [
        "df['ALB'].fillna(df['ALB'].mean(), inplace=True)\n",
        "df['ALP'].fillna(df['ALP'].mean(), inplace=True)\n",
        "df['CHOL'].fillna(df['CHOL'].mean(), inplace=True)\n",
        "df['PROT'].fillna(df['PROT'].mean(), inplace=True)\n",
        "df['ALT'].fillna(df['ALT'].mean(), inplace=True)\n",
        "df = df.drop('Unnamed: 0', axis=1)\n",
        "\n",
        "print(df.isnull().sum())"
      ],
      "metadata": {
        "id": "5NOwzAMGv6nX"
      },
      "execution_count": null,
      "outputs": []
    },
    {
      "cell_type": "code",
      "source": [
        "df['Category'] = df['Category'].replace({'0=Blood Donor': 0, '0s=suspect Blood Donor': 0, '1=Hepatitis': 1, '2=Fibrosis': 1, '3=Cirrhosis': 1})\n",
        "\n",
        "df['Sex'] = df['Sex'].replace({'m': 0, 'f': 1})"
      ],
      "metadata": {
        "id": "_Z3RCdEbv7qL"
      },
      "execution_count": null,
      "outputs": []
    },
    {
      "cell_type": "code",
      "source": [
        "\n",
        "df\n"
      ],
      "metadata": {
        "id": "68lZl_wywNNF"
      },
      "execution_count": null,
      "outputs": []
    },
    {
      "cell_type": "code",
      "source": [
        "print(df['Category'].value_counts())\n",
        "print(df['Sex'].value_counts())"
      ],
      "metadata": {
        "id": "u2hL6p3TwNWB"
      },
      "execution_count": null,
      "outputs": []
    },
    {
      "cell_type": "code",
      "source": [
        "col=['Category', 'Age', 'Sex', 'ALB', 'ALP', 'ALT', 'AST', 'BIL', 'CHE',\n",
        "       'CHOL', 'CREA', 'GGT', 'PROT']"
      ],
      "metadata": {
        "id": "YAFFjzTTwNZ-"
      },
      "execution_count": null,
      "outputs": []
    },
    {
      "cell_type": "code",
      "source": [
        "import matplotlib.pyplot as plt\n",
        "\n",
        "# create a list of the columns to plot\n",
        "columns_to_plot = ['ALB', 'ALP', 'ALT', 'AST', 'BIL', 'CHE', 'CHOL', 'CREA', 'GGT', 'PROT']\n",
        "\n",
        "# create a box plot for each column\n",
        "plt.figure(figsize=(10,6))\n",
        "plt.boxplot(df[columns_to_plot].values, labels=columns_to_plot, showfliers=True)\n",
        "plt.xticks(rotation=45)\n",
        "plt.show()"
      ],
      "metadata": {
        "id": "FEkZUr2GwNcp"
      },
      "execution_count": null,
      "outputs": []
    },
    {
      "cell_type": "code",
      "source": [
        "q_low = df[col].quantile(0.01)\n",
        "q_hi  = df[col].quantile(0.99)\n",
        "\n",
        "df_outliers = df[(df[col] < q_low) | (df[col] > q_hi)]\n",
        "outlier_percentage = (df_outliers.sum() / len(df_outliers)) * 100\n",
        "print(outlier_percentage)"
      ],
      "metadata": {
        "id": "W8WWBvm0wNfT"
      },
      "execution_count": null,
      "outputs": []
    },
    {
      "cell_type": "code",
      "source": [
        "from sklearn.preprocessing import RobustScaler\n",
        "\n",
        "# Create a RobustScaler object\n",
        "robust_scaler = RobustScaler()\n",
        "\n",
        "# Define the columns to be scaled using RobustScaler\n",
        "cols_to_scale = ['ALB', 'ALP', 'ALT', 'AST', 'BIL', 'CHE', 'CHOL', 'CREA', 'GGT', 'PROT']\n",
        "\n",
        "# Scale the selected columns using RobustScaler\n",
        "df[cols_to_scale] = robust_scaler.fit_transform(df[cols_to_scale])"
      ],
      "metadata": {
        "id": "fYJTx2yUwNhy"
      },
      "execution_count": null,
      "outputs": []
    },
    {
      "cell_type": "code",
      "source": [
        "q_low = df[col].quantile(0.01)\n",
        "q_hi  = df[col].quantile(0.99)\n",
        "\n",
        "df_outliers = df[(df[col] < q_low) | (df[col] > q_hi)]\n",
        "outlier_percentage = (df_outliers.sum() / len(df_outliers)) * 100\n",
        "print(outlier_percentage)"
      ],
      "metadata": {
        "id": "lhyINzMpwNkQ"
      },
      "execution_count": null,
      "outputs": []
    },
    {
      "cell_type": "code",
      "source": [
        "import matplotlib.pyplot as plt\n",
        "\n",
        "plt.hist(df['Age'])\n",
        "plt.xlabel('Age')\n",
        "plt.ylabel('Count')\n",
        "plt.show()"
      ],
      "metadata": {
        "id": "yse09xLwwNno"
      },
      "execution_count": null,
      "outputs": []
    },
    {
      "cell_type": "code",
      "source": [
        "# filter data by category 0 or 1\n",
        "df_cat0 = df[df['Category']==0]\n",
        "df_cat1 = df[df['Category']==1]\n",
        "\n",
        "# plot the scatter plot for category 0 and 1 separately\n",
        "plt.scatter(df_cat0['AST'], np.zeros_like(df_cat0['AST']), alpha=0.2, label='Category 0')\n",
        "plt.scatter(df_cat1['AST'], np.zeros_like(df_cat1['AST'])+1, alpha=0.2, label='Category 1')\n",
        "plt.xlabel('AST')\n",
        "plt.yticks([0,1])\n",
        "plt.legend()\n",
        "plt.show()"
      ],
      "metadata": {
        "id": "MoksAOOzwwTL"
      },
      "execution_count": null,
      "outputs": []
    },
    {
      "cell_type": "code",
      "source": [
        "print ('Total Suspected Patients : {} '.format(df.Category.value_counts()[0]))\n",
        "print ('Total Healthy Patients : {} '.format(df.Category.value_counts()[1]))\n",
        "fig, ax = plt.subplots(figsize=(8,8))\n",
        "\n",
        "plt.pie(x=df[\"Category\"].value_counts(),\n",
        "        colors=[\"red\",\"yellow\"],\n",
        "        labels=[\"Healthy Patients\",\"Suspected Patients\"],\n",
        "        )\n",
        "\n",
        "plt.show()"
      ],
      "metadata": {
        "id": "qrgnUWPQwwWj"
      },
      "execution_count": null,
      "outputs": []
    },
    {
      "cell_type": "code",
      "source": [
        "fig, ax = plt.subplots(figsize=(8,8))\n",
        "plt.pie(x=df[\"Sex\"].value_counts(),\n",
        "        colors=[\"blue\",\"red\"],\n",
        "        labels=[\"Male\",\"Female\"],\n",
        "        autopct=\"%1.2f%%\",\n",
        "        )\n",
        "plt.show()"
      ],
      "metadata": {
        "id": "UMCoW98twwZ3"
      },
      "execution_count": null,
      "outputs": []
    },
    {
      "cell_type": "code",
      "source": [
        "import seaborn as sns\n",
        "import matplotlib.pyplot as plt\n",
        "\n",
        "sns.set(style=\"whitegrid\")\n",
        "correlation_matrix = df.corr()\n",
        "fig, ax = plt.subplots(figsize=(12, 10))\n",
        "plt.title(\"Correlation Matrix Heatmap\", fontsize=16)\n",
        "sns.heatmap(correlation_matrix, annot=True, annot_kws={\"size\": 12}, cmap='coolwarm', ax=ax)\n",
        "cbar = ax.collections[0].colorbar\n",
        "cbar.ax.tick_params(labelsize=12)\n",
        "cbar.set_label('Correlation Strength', rotation=270, fontsize=14, labelpad=15)\n",
        "plt.show()"
      ],
      "metadata": {
        "id": "4qe7ZQtuwwcI"
      },
      "execution_count": null,
      "outputs": []
    },
    {
      "cell_type": "code",
      "source": [
        "import seaborn as sns\n",
        "import matplotlib.pyplot as plt\n",
        "\n",
        "sns.boxplot(x=\"Category\", y=\"Age\", data=df)\n",
        "plt.show()"
      ],
      "metadata": {
        "id": "eSsXJ5DEwwem"
      },
      "execution_count": null,
      "outputs": []
    },
    {
      "cell_type": "code",
      "source": [
        "import seaborn as sns\n",
        "import matplotlib.pyplot as plt\n",
        "\n",
        "# Set up the figure and axes\n",
        "fig, axes = plt.subplots(5, 2, figsize=(20, 25))\n",
        "axes = axes.flatten()\n",
        "\n",
        "# Define the columns to plot\n",
        "columns = [\"Age\", \"ALB\", \"ALP\", \"ALT\", \"AST\", \"BIL\", \"CHE\", \"CHOL\", \"CREA\", \"GGT\"]\n",
        "\n",
        "# Loop over each column and plot a histogram with multiple categories\n",
        "for i, col in enumerate(columns):\n",
        "    sns.histplot(x=df[col], hue=df[\"Category\"], kde=True, palette=\"magma\", ax=axes[i])\n",
        "    axes[i].set_xlabel(col, fontsize=16)  # increase x-axis label font size\n",
        "    axes[i].set_ylabel(\"Count\", fontsize=16)  # increase y-axis label font size\n",
        "    axes[i].set_title(f\"Histogram of {col}\", fontsize=18)  # increase title font size\n",
        "    axes[i].legend(fontsize=14)  # increase legend font size\n",
        "\n",
        "# Add a main title to the figure\n",
        "fig.suptitle(\"Distribution of Various Blood Test Results by Category\", fontsize=24)\n",
        "\n",
        "# Adjust the spacing between subplots\n",
        "plt.subplots_adjust(hspace=0.5, wspace=0.3)  # add more spacing between subplots"
      ],
      "metadata": {
        "id": "QcmJzPYdwwhH"
      },
      "execution_count": null,
      "outputs": []
    },
    {
      "cell_type": "code",
      "source": [
        "from sklearn.model_selection import train_test_split\n",
        "\n",
        "X = df.drop(\"Category\", axis=1)\n",
        "y = df[\"Category\"]\n",
        "\n",
        "X_train, X_test, y_train, y_test = train_test_split(X, y, test_size=0.2, random_state=42)"
      ],
      "metadata": {
        "id": "kWsNgTbHwwjb"
      },
      "execution_count": null,
      "outputs": []
    },
    {
      "cell_type": "code",
      "source": [
        "import warnings\n",
        "import joblib\n",
        "\n",
        "# define a list of models to train and their corresponding hyperparameters to tune\n",
        "models = [\n",
        "    {\n",
        "        \"name\": \"Logistic Regression\",\n",
        "        \"estimator\": LogisticRegression(),\n",
        "        \"hyperparameters\": {\n",
        "            \"penalty\": [\"l2\"],\n",
        "            \"C\": [0.01, 0.1, 1, 10],\n",
        "            \"max_iter\": [500]\n",
        "        }\n",
        "    },\n",
        "    {\n",
        "        \"name\": \"Random Forest\",\n",
        "        \"estimator\": RandomForestClassifier(),\n",
        "        \"hyperparameters\": {\n",
        "            \"n_estimators\": [100, 200, 300],\n",
        "            \"max_depth\": [5, 10, 20, None]\n",
        "        }\n",
        "    },\n",
        "    {\n",
        "        \"name\": \"Gradient Boosting\",\n",
        "        \"estimator\": GradientBoostingClassifier(),\n",
        "         \"hyperparameters\": {\n",
        "            \"n_estimators\": [100, 200, 300],\n",
        "            \"learning_rate\": [0.01, 0.1, 1],\n",
        "            \"max_depth\": [3, 5, 10]\n",
        "        }\n",
        "    },\n",
        "    {\n",
        "        \"name\": \"Support Vector Machine\",\n",
        "        \"estimator\": SVC(),\n",
        "        \"hyperparameters\": {\n",
        "            \"C\": [0.01, 0.1, 1, 10],\n",
        "            \"kernel\": [\"linear\", \"rbf\", \"sigmoid\"],\n",
        "            \"gamma\": [\"scale\", \"auto\"]\n",
        "        }\n",
        "    }\n",
        "\n",
        "]\n",
        "\n",
        "# train and tune each model\n",
        "accuracies = []\n",
        "best_models = {}\n",
        "for model in models:\n",
        "    with warnings.catch_warnings():\n",
        "        warnings.simplefilter(\"ignore\")\n",
        "        print(f\"Training {model['name']}...\")\n",
        "        grid_search = GridSearchCV(\n",
        "            estimator=model['estimator'],\n",
        "            param_grid=model['hyperparameters'],\n",
        "            scoring='accuracy',\n",
        "            cv=5\n",
        "        )\n",
        "        grid_search.fit(X_train, y_train)\n",
        "\n",
        "        # evaluate the model's performance\n",
        "        best_model = grid_search.best_estimator_\n",
        "        y_pred = best_model.predict(X_test)\n",
        "        accuracy = accuracy_score(y_test, y_pred)\n",
        "        conf_matrix = confusion_matrix(y_test, y_pred)\n",
        "\n",
        "        accuracies.append((model['name'], accuracy))\n",
        "        best_models[model['name']] = best_model\n",
        "\n",
        "        print(f\"Best parameters for {model['name']}: {grid_search.best_params_}\")\n",
        "        print(f\"Accuracy for {model['name']}: {accuracy}\")"
      ],
      "metadata": {
        "id": "mRRJyEQnwwl6"
      },
      "execution_count": null,
      "outputs": []
    },
    {
      "cell_type": "code",
      "source": [],
      "metadata": {
        "id": "6vLHzp3qwwpT"
      },
      "execution_count": null,
      "outputs": []
    }
  ]
}